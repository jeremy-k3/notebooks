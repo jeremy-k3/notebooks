{
  "nbformat": 4,
  "nbformat_minor": 0,
  "metadata": {
    "colab": {
      "provenance": [],
      "gpuType": "T4"
    },
    "kernelspec": {
      "name": "python3",
      "display_name": "Python 3"
    },
    "language_info": {
      "name": "python"
    },
    "accelerator": "GPU",
    "widgets": {
      "application/vnd.jupyter.widget-state+json": {
        "2dba5c7dbeae4dc285f395ee968783cc": {
          "model_module": "@jupyter-widgets/controls",
          "model_name": "HBoxModel",
          "model_module_version": "1.5.0",
          "state": {
            "_dom_classes": [],
            "_model_module": "@jupyter-widgets/controls",
            "_model_module_version": "1.5.0",
            "_model_name": "HBoxModel",
            "_view_count": null,
            "_view_module": "@jupyter-widgets/controls",
            "_view_module_version": "1.5.0",
            "_view_name": "HBoxView",
            "box_style": "",
            "children": [
              "IPY_MODEL_5fabd5469699468e8e0763c547b864c3",
              "IPY_MODEL_90750a9cd0cf4145ba85d5ff7d699fc4",
              "IPY_MODEL_ce330ff361294cfe8d2f0a3ad999e666"
            ],
            "layout": "IPY_MODEL_7d7e9ad409e44dc8b975410b12402172"
          }
        },
        "5fabd5469699468e8e0763c547b864c3": {
          "model_module": "@jupyter-widgets/controls",
          "model_name": "HTMLModel",
          "model_module_version": "1.5.0",
          "state": {
            "_dom_classes": [],
            "_model_module": "@jupyter-widgets/controls",
            "_model_module_version": "1.5.0",
            "_model_name": "HTMLModel",
            "_view_count": null,
            "_view_module": "@jupyter-widgets/controls",
            "_view_module_version": "1.5.0",
            "_view_name": "HTMLView",
            "description": "",
            "description_tooltip": null,
            "layout": "IPY_MODEL_a50fc7b01afc49e3b404771fd0449140",
            "placeholder": "​",
            "style": "IPY_MODEL_67126e87626146f78923493187df2605",
            "value": "Map (num_proc=4): 100%"
          }
        },
        "90750a9cd0cf4145ba85d5ff7d699fc4": {
          "model_module": "@jupyter-widgets/controls",
          "model_name": "FloatProgressModel",
          "model_module_version": "1.5.0",
          "state": {
            "_dom_classes": [],
            "_model_module": "@jupyter-widgets/controls",
            "_model_module_version": "1.5.0",
            "_model_name": "FloatProgressModel",
            "_view_count": null,
            "_view_module": "@jupyter-widgets/controls",
            "_view_module_version": "1.5.0",
            "_view_name": "ProgressView",
            "bar_style": "success",
            "description": "",
            "description_tooltip": null,
            "layout": "IPY_MODEL_a9af09ab0651424bbb17b9f95cf25b16",
            "max": 2000,
            "min": 0,
            "orientation": "horizontal",
            "style": "IPY_MODEL_366c2beafcd140078ca54478926106dd",
            "value": 2000
          }
        },
        "ce330ff361294cfe8d2f0a3ad999e666": {
          "model_module": "@jupyter-widgets/controls",
          "model_name": "HTMLModel",
          "model_module_version": "1.5.0",
          "state": {
            "_dom_classes": [],
            "_model_module": "@jupyter-widgets/controls",
            "_model_module_version": "1.5.0",
            "_model_name": "HTMLModel",
            "_view_count": null,
            "_view_module": "@jupyter-widgets/controls",
            "_view_module_version": "1.5.0",
            "_view_name": "HTMLView",
            "description": "",
            "description_tooltip": null,
            "layout": "IPY_MODEL_fb923e7f1afb46eebcbeb312add80b27",
            "placeholder": "​",
            "style": "IPY_MODEL_6c2de9ae749048a0b6c7d2fdc41c23dc",
            "value": " 2000/2000 [00:01&lt;00:00, 2560.62 examples/s]"
          }
        },
        "7d7e9ad409e44dc8b975410b12402172": {
          "model_module": "@jupyter-widgets/base",
          "model_name": "LayoutModel",
          "model_module_version": "1.2.0",
          "state": {
            "_model_module": "@jupyter-widgets/base",
            "_model_module_version": "1.2.0",
            "_model_name": "LayoutModel",
            "_view_count": null,
            "_view_module": "@jupyter-widgets/base",
            "_view_module_version": "1.2.0",
            "_view_name": "LayoutView",
            "align_content": null,
            "align_items": null,
            "align_self": null,
            "border": null,
            "bottom": null,
            "display": null,
            "flex": null,
            "flex_flow": null,
            "grid_area": null,
            "grid_auto_columns": null,
            "grid_auto_flow": null,
            "grid_auto_rows": null,
            "grid_column": null,
            "grid_gap": null,
            "grid_row": null,
            "grid_template_areas": null,
            "grid_template_columns": null,
            "grid_template_rows": null,
            "height": null,
            "justify_content": null,
            "justify_items": null,
            "left": null,
            "margin": null,
            "max_height": null,
            "max_width": null,
            "min_height": null,
            "min_width": null,
            "object_fit": null,
            "object_position": null,
            "order": null,
            "overflow": null,
            "overflow_x": null,
            "overflow_y": null,
            "padding": null,
            "right": null,
            "top": null,
            "visibility": null,
            "width": null
          }
        },
        "a50fc7b01afc49e3b404771fd0449140": {
          "model_module": "@jupyter-widgets/base",
          "model_name": "LayoutModel",
          "model_module_version": "1.2.0",
          "state": {
            "_model_module": "@jupyter-widgets/base",
            "_model_module_version": "1.2.0",
            "_model_name": "LayoutModel",
            "_view_count": null,
            "_view_module": "@jupyter-widgets/base",
            "_view_module_version": "1.2.0",
            "_view_name": "LayoutView",
            "align_content": null,
            "align_items": null,
            "align_self": null,
            "border": null,
            "bottom": null,
            "display": null,
            "flex": null,
            "flex_flow": null,
            "grid_area": null,
            "grid_auto_columns": null,
            "grid_auto_flow": null,
            "grid_auto_rows": null,
            "grid_column": null,
            "grid_gap": null,
            "grid_row": null,
            "grid_template_areas": null,
            "grid_template_columns": null,
            "grid_template_rows": null,
            "height": null,
            "justify_content": null,
            "justify_items": null,
            "left": null,
            "margin": null,
            "max_height": null,
            "max_width": null,
            "min_height": null,
            "min_width": null,
            "object_fit": null,
            "object_position": null,
            "order": null,
            "overflow": null,
            "overflow_x": null,
            "overflow_y": null,
            "padding": null,
            "right": null,
            "top": null,
            "visibility": null,
            "width": null
          }
        },
        "67126e87626146f78923493187df2605": {
          "model_module": "@jupyter-widgets/controls",
          "model_name": "DescriptionStyleModel",
          "model_module_version": "1.5.0",
          "state": {
            "_model_module": "@jupyter-widgets/controls",
            "_model_module_version": "1.5.0",
            "_model_name": "DescriptionStyleModel",
            "_view_count": null,
            "_view_module": "@jupyter-widgets/base",
            "_view_module_version": "1.2.0",
            "_view_name": "StyleView",
            "description_width": ""
          }
        },
        "a9af09ab0651424bbb17b9f95cf25b16": {
          "model_module": "@jupyter-widgets/base",
          "model_name": "LayoutModel",
          "model_module_version": "1.2.0",
          "state": {
            "_model_module": "@jupyter-widgets/base",
            "_model_module_version": "1.2.0",
            "_model_name": "LayoutModel",
            "_view_count": null,
            "_view_module": "@jupyter-widgets/base",
            "_view_module_version": "1.2.0",
            "_view_name": "LayoutView",
            "align_content": null,
            "align_items": null,
            "align_self": null,
            "border": null,
            "bottom": null,
            "display": null,
            "flex": null,
            "flex_flow": null,
            "grid_area": null,
            "grid_auto_columns": null,
            "grid_auto_flow": null,
            "grid_auto_rows": null,
            "grid_column": null,
            "grid_gap": null,
            "grid_row": null,
            "grid_template_areas": null,
            "grid_template_columns": null,
            "grid_template_rows": null,
            "height": null,
            "justify_content": null,
            "justify_items": null,
            "left": null,
            "margin": null,
            "max_height": null,
            "max_width": null,
            "min_height": null,
            "min_width": null,
            "object_fit": null,
            "object_position": null,
            "order": null,
            "overflow": null,
            "overflow_x": null,
            "overflow_y": null,
            "padding": null,
            "right": null,
            "top": null,
            "visibility": null,
            "width": null
          }
        },
        "366c2beafcd140078ca54478926106dd": {
          "model_module": "@jupyter-widgets/controls",
          "model_name": "ProgressStyleModel",
          "model_module_version": "1.5.0",
          "state": {
            "_model_module": "@jupyter-widgets/controls",
            "_model_module_version": "1.5.0",
            "_model_name": "ProgressStyleModel",
            "_view_count": null,
            "_view_module": "@jupyter-widgets/base",
            "_view_module_version": "1.2.0",
            "_view_name": "StyleView",
            "bar_color": null,
            "description_width": ""
          }
        },
        "fb923e7f1afb46eebcbeb312add80b27": {
          "model_module": "@jupyter-widgets/base",
          "model_name": "LayoutModel",
          "model_module_version": "1.2.0",
          "state": {
            "_model_module": "@jupyter-widgets/base",
            "_model_module_version": "1.2.0",
            "_model_name": "LayoutModel",
            "_view_count": null,
            "_view_module": "@jupyter-widgets/base",
            "_view_module_version": "1.2.0",
            "_view_name": "LayoutView",
            "align_content": null,
            "align_items": null,
            "align_self": null,
            "border": null,
            "bottom": null,
            "display": null,
            "flex": null,
            "flex_flow": null,
            "grid_area": null,
            "grid_auto_columns": null,
            "grid_auto_flow": null,
            "grid_auto_rows": null,
            "grid_column": null,
            "grid_gap": null,
            "grid_row": null,
            "grid_template_areas": null,
            "grid_template_columns": null,
            "grid_template_rows": null,
            "height": null,
            "justify_content": null,
            "justify_items": null,
            "left": null,
            "margin": null,
            "max_height": null,
            "max_width": null,
            "min_height": null,
            "min_width": null,
            "object_fit": null,
            "object_position": null,
            "order": null,
            "overflow": null,
            "overflow_x": null,
            "overflow_y": null,
            "padding": null,
            "right": null,
            "top": null,
            "visibility": null,
            "width": null
          }
        },
        "6c2de9ae749048a0b6c7d2fdc41c23dc": {
          "model_module": "@jupyter-widgets/controls",
          "model_name": "DescriptionStyleModel",
          "model_module_version": "1.5.0",
          "state": {
            "_model_module": "@jupyter-widgets/controls",
            "_model_module_version": "1.5.0",
            "_model_name": "DescriptionStyleModel",
            "_view_count": null,
            "_view_module": "@jupyter-widgets/base",
            "_view_module_version": "1.2.0",
            "_view_name": "StyleView",
            "description_width": ""
          }
        },
        "f1e23e0d52b140699bb059ff8b5225e5": {
          "model_module": "@jupyter-widgets/controls",
          "model_name": "HBoxModel",
          "model_module_version": "1.5.0",
          "state": {
            "_dom_classes": [],
            "_model_module": "@jupyter-widgets/controls",
            "_model_module_version": "1.5.0",
            "_model_name": "HBoxModel",
            "_view_count": null,
            "_view_module": "@jupyter-widgets/controls",
            "_view_module_version": "1.5.0",
            "_view_name": "HBoxView",
            "box_style": "",
            "children": [
              "IPY_MODEL_19702a05a2f3477f9635aa8baab88c9c",
              "IPY_MODEL_a9c316b8db3d4dc4938bc1b6a923089c",
              "IPY_MODEL_a130b36aacd84ee4bc208b1f72543702"
            ],
            "layout": "IPY_MODEL_998cd2af716a4ad2a091d4f5d5b84868"
          }
        },
        "19702a05a2f3477f9635aa8baab88c9c": {
          "model_module": "@jupyter-widgets/controls",
          "model_name": "HTMLModel",
          "model_module_version": "1.5.0",
          "state": {
            "_dom_classes": [],
            "_model_module": "@jupyter-widgets/controls",
            "_model_module_version": "1.5.0",
            "_model_name": "HTMLModel",
            "_view_count": null,
            "_view_module": "@jupyter-widgets/controls",
            "_view_module_version": "1.5.0",
            "_view_name": "HTMLView",
            "description": "",
            "description_tooltip": null,
            "layout": "IPY_MODEL_84b2dcac31904fab8e8491d191529a36",
            "placeholder": "​",
            "style": "IPY_MODEL_1ced359303a943398f20614200e4c7a7",
            "value": "Filter: 100%"
          }
        },
        "a9c316b8db3d4dc4938bc1b6a923089c": {
          "model_module": "@jupyter-widgets/controls",
          "model_name": "FloatProgressModel",
          "model_module_version": "1.5.0",
          "state": {
            "_dom_classes": [],
            "_model_module": "@jupyter-widgets/controls",
            "_model_module_version": "1.5.0",
            "_model_name": "FloatProgressModel",
            "_view_count": null,
            "_view_module": "@jupyter-widgets/controls",
            "_view_module_version": "1.5.0",
            "_view_name": "ProgressView",
            "bar_style": "success",
            "description": "",
            "description_tooltip": null,
            "layout": "IPY_MODEL_751c6fdd7d65443cb274b20ec0c27871",
            "max": 2000,
            "min": 0,
            "orientation": "horizontal",
            "style": "IPY_MODEL_5116bb27e0374aaebb181821729e4cb1",
            "value": 2000
          }
        },
        "a130b36aacd84ee4bc208b1f72543702": {
          "model_module": "@jupyter-widgets/controls",
          "model_name": "HTMLModel",
          "model_module_version": "1.5.0",
          "state": {
            "_dom_classes": [],
            "_model_module": "@jupyter-widgets/controls",
            "_model_module_version": "1.5.0",
            "_model_name": "HTMLModel",
            "_view_count": null,
            "_view_module": "@jupyter-widgets/controls",
            "_view_module_version": "1.5.0",
            "_view_name": "HTMLView",
            "description": "",
            "description_tooltip": null,
            "layout": "IPY_MODEL_7bed583aaad646a4b650b90229efe3f9",
            "placeholder": "​",
            "style": "IPY_MODEL_174db725ffb24d448e169b547d2f1416",
            "value": " 2000/2000 [00:00&lt;00:00, 38417.12 examples/s]"
          }
        },
        "998cd2af716a4ad2a091d4f5d5b84868": {
          "model_module": "@jupyter-widgets/base",
          "model_name": "LayoutModel",
          "model_module_version": "1.2.0",
          "state": {
            "_model_module": "@jupyter-widgets/base",
            "_model_module_version": "1.2.0",
            "_model_name": "LayoutModel",
            "_view_count": null,
            "_view_module": "@jupyter-widgets/base",
            "_view_module_version": "1.2.0",
            "_view_name": "LayoutView",
            "align_content": null,
            "align_items": null,
            "align_self": null,
            "border": null,
            "bottom": null,
            "display": null,
            "flex": null,
            "flex_flow": null,
            "grid_area": null,
            "grid_auto_columns": null,
            "grid_auto_flow": null,
            "grid_auto_rows": null,
            "grid_column": null,
            "grid_gap": null,
            "grid_row": null,
            "grid_template_areas": null,
            "grid_template_columns": null,
            "grid_template_rows": null,
            "height": null,
            "justify_content": null,
            "justify_items": null,
            "left": null,
            "margin": null,
            "max_height": null,
            "max_width": null,
            "min_height": null,
            "min_width": null,
            "object_fit": null,
            "object_position": null,
            "order": null,
            "overflow": null,
            "overflow_x": null,
            "overflow_y": null,
            "padding": null,
            "right": null,
            "top": null,
            "visibility": null,
            "width": null
          }
        },
        "84b2dcac31904fab8e8491d191529a36": {
          "model_module": "@jupyter-widgets/base",
          "model_name": "LayoutModel",
          "model_module_version": "1.2.0",
          "state": {
            "_model_module": "@jupyter-widgets/base",
            "_model_module_version": "1.2.0",
            "_model_name": "LayoutModel",
            "_view_count": null,
            "_view_module": "@jupyter-widgets/base",
            "_view_module_version": "1.2.0",
            "_view_name": "LayoutView",
            "align_content": null,
            "align_items": null,
            "align_self": null,
            "border": null,
            "bottom": null,
            "display": null,
            "flex": null,
            "flex_flow": null,
            "grid_area": null,
            "grid_auto_columns": null,
            "grid_auto_flow": null,
            "grid_auto_rows": null,
            "grid_column": null,
            "grid_gap": null,
            "grid_row": null,
            "grid_template_areas": null,
            "grid_template_columns": null,
            "grid_template_rows": null,
            "height": null,
            "justify_content": null,
            "justify_items": null,
            "left": null,
            "margin": null,
            "max_height": null,
            "max_width": null,
            "min_height": null,
            "min_width": null,
            "object_fit": null,
            "object_position": null,
            "order": null,
            "overflow": null,
            "overflow_x": null,
            "overflow_y": null,
            "padding": null,
            "right": null,
            "top": null,
            "visibility": null,
            "width": null
          }
        },
        "1ced359303a943398f20614200e4c7a7": {
          "model_module": "@jupyter-widgets/controls",
          "model_name": "DescriptionStyleModel",
          "model_module_version": "1.5.0",
          "state": {
            "_model_module": "@jupyter-widgets/controls",
            "_model_module_version": "1.5.0",
            "_model_name": "DescriptionStyleModel",
            "_view_count": null,
            "_view_module": "@jupyter-widgets/base",
            "_view_module_version": "1.2.0",
            "_view_name": "StyleView",
            "description_width": ""
          }
        },
        "751c6fdd7d65443cb274b20ec0c27871": {
          "model_module": "@jupyter-widgets/base",
          "model_name": "LayoutModel",
          "model_module_version": "1.2.0",
          "state": {
            "_model_module": "@jupyter-widgets/base",
            "_model_module_version": "1.2.0",
            "_model_name": "LayoutModel",
            "_view_count": null,
            "_view_module": "@jupyter-widgets/base",
            "_view_module_version": "1.2.0",
            "_view_name": "LayoutView",
            "align_content": null,
            "align_items": null,
            "align_self": null,
            "border": null,
            "bottom": null,
            "display": null,
            "flex": null,
            "flex_flow": null,
            "grid_area": null,
            "grid_auto_columns": null,
            "grid_auto_flow": null,
            "grid_auto_rows": null,
            "grid_column": null,
            "grid_gap": null,
            "grid_row": null,
            "grid_template_areas": null,
            "grid_template_columns": null,
            "grid_template_rows": null,
            "height": null,
            "justify_content": null,
            "justify_items": null,
            "left": null,
            "margin": null,
            "max_height": null,
            "max_width": null,
            "min_height": null,
            "min_width": null,
            "object_fit": null,
            "object_position": null,
            "order": null,
            "overflow": null,
            "overflow_x": null,
            "overflow_y": null,
            "padding": null,
            "right": null,
            "top": null,
            "visibility": null,
            "width": null
          }
        },
        "5116bb27e0374aaebb181821729e4cb1": {
          "model_module": "@jupyter-widgets/controls",
          "model_name": "ProgressStyleModel",
          "model_module_version": "1.5.0",
          "state": {
            "_model_module": "@jupyter-widgets/controls",
            "_model_module_version": "1.5.0",
            "_model_name": "ProgressStyleModel",
            "_view_count": null,
            "_view_module": "@jupyter-widgets/base",
            "_view_module_version": "1.2.0",
            "_view_name": "StyleView",
            "bar_color": null,
            "description_width": ""
          }
        },
        "7bed583aaad646a4b650b90229efe3f9": {
          "model_module": "@jupyter-widgets/base",
          "model_name": "LayoutModel",
          "model_module_version": "1.2.0",
          "state": {
            "_model_module": "@jupyter-widgets/base",
            "_model_module_version": "1.2.0",
            "_model_name": "LayoutModel",
            "_view_count": null,
            "_view_module": "@jupyter-widgets/base",
            "_view_module_version": "1.2.0",
            "_view_name": "LayoutView",
            "align_content": null,
            "align_items": null,
            "align_self": null,
            "border": null,
            "bottom": null,
            "display": null,
            "flex": null,
            "flex_flow": null,
            "grid_area": null,
            "grid_auto_columns": null,
            "grid_auto_flow": null,
            "grid_auto_rows": null,
            "grid_column": null,
            "grid_gap": null,
            "grid_row": null,
            "grid_template_areas": null,
            "grid_template_columns": null,
            "grid_template_rows": null,
            "height": null,
            "justify_content": null,
            "justify_items": null,
            "left": null,
            "margin": null,
            "max_height": null,
            "max_width": null,
            "min_height": null,
            "min_width": null,
            "object_fit": null,
            "object_position": null,
            "order": null,
            "overflow": null,
            "overflow_x": null,
            "overflow_y": null,
            "padding": null,
            "right": null,
            "top": null,
            "visibility": null,
            "width": null
          }
        },
        "174db725ffb24d448e169b547d2f1416": {
          "model_module": "@jupyter-widgets/controls",
          "model_name": "DescriptionStyleModel",
          "model_module_version": "1.5.0",
          "state": {
            "_model_module": "@jupyter-widgets/controls",
            "_model_module_version": "1.5.0",
            "_model_name": "DescriptionStyleModel",
            "_view_count": null,
            "_view_module": "@jupyter-widgets/base",
            "_view_module_version": "1.2.0",
            "_view_name": "StyleView",
            "description_width": ""
          }
        }
      }
    }
  },
  "cells": [
    {
      "cell_type": "markdown",
      "source": [
        "# 🗣️  💻 VOICE RECOGNITION EVALUATION NOTEBOOK\n"
      ],
      "metadata": {
        "id": "cnHgxr7tEkfA"
      }
    },
    {
      "cell_type": "markdown",
      "source": [
        "## 🛠️ Install packages"
      ],
      "metadata": {
        "id": "4bcXV-OWE1vC"
      }
    },
    {
      "cell_type": "code",
      "execution_count": null,
      "metadata": {
        "id": "w5FISh31Kon8"
      },
      "outputs": [],
      "source": [
        "! pip install nemo_toolkit['asr']\n",
        "! pip install datasets"
      ]
    },
    {
      "cell_type": "markdown",
      "source": [
        "## 📥 Import modules"
      ],
      "metadata": {
        "id": "yru3fiwDE7E5"
      }
    },
    {
      "cell_type": "code",
      "source": [
        "#Nemo\n",
        "import nemo.collections.asr as nemo_asr\n",
        "#Huggingface datasets\n",
        "from datasets import load_dataset, Audio\n",
        "#Other useful modules\n",
        "from tqdm import tqdm\n",
        "import torch\n",
        "import numpy as np\n",
        "import matplotlib.pyplot as plt\n",
        "import soundfile as sf\n",
        "import librosa"
      ],
      "metadata": {
        "id": "2rx9HCYJET6C"
      },
      "execution_count": 2,
      "outputs": []
    },
    {
      "cell_type": "markdown",
      "source": [
        "## 🔑 Log into Huggingface to use the CommonVoice dataset\n",
        "Make sure to generate a token first here: https://huggingface.co/settings/tokens\n"
      ],
      "metadata": {
        "id": "QLsal24cFAnJ"
      }
    },
    {
      "cell_type": "code",
      "source": [
        "! huggingface-cli login"
      ],
      "metadata": {
        "id": "8ocOrxjyNLUj"
      },
      "execution_count": null,
      "outputs": []
    },
    {
      "cell_type": "markdown",
      "source": [
        "## 🔃 Load the dataset and preprocess it"
      ],
      "metadata": {
        "id": "IS7ZXLZpNrZs"
      }
    },
    {
      "cell_type": "markdown",
      "source": [
        "### Select the language to evaluate\n",
        "**Languages available**: <br>\n",
        "Abkhaz, Arabic, Armenian, Assamese, Asturian, Azerbaijani, Basaa, Bashkir, Basque, Belarusian, Bengali, Breton, Bulgarian, Cantonese, Catalan, Central Kurdish, Chinese (China), Chinese (Hong Kong), Chinese (Taiwan), Chuvash, Czech, Danish, Dhivehi, Dioula, Dutch, English, Erzya, Esperanto, Estonian, Finnish, French, Frisian, Galician, Georgian, German, Greek, Guarani, Hakha Chin, Hausa, Hill Mari, Hindi, Hungarian, Icelandic, Igbo, Indonesian, Interlingua, Irish, Italian, Japanese, Kabyle, Kazakh, Kinyarwanda, Korean, Kurmanji Kurdish, Kyrgyz, Lao, Latvian, Lithuanian, Luganda, Macedonian, Malayalam, Maltese, Marathi, Meadow Mari, Moksha, Mongolian, Nepali, Norwegian Nynorsk, Occitan, Odia, Persian, Polish, Portuguese, Punjabi, Quechua Chanka, Romanian, Romansh Sursilvan, Romansh Vallader, Russian, Sakha, Santali (Ol Chiki), Saraiki, Sardinian, Serbian, Slovak, Slovenian, Sorbian, Upper, Spanish, Swahili, Swedish, Taiwanese (Minnan), Tamil, Tatar, Thai, Tigre, Tigrinya, Toki Pona, Turkish, Turkmen, Twi, Ukrainian, Urdu, Uyghur, Uzbek, Vietnamese, Votic, Welsh, Yoruba\n",
        "\n",
        "**Language codes:**<br>\n",
        "All codes can be found here: https://huggingface.co/datasets/mozilla-foundation/common_voice_13_0"
      ],
      "metadata": {
        "id": "iaZXeVhWFmVT"
      }
    },
    {
      "cell_type": "code",
      "source": [
        "input_lang = 'hi'"
      ],
      "metadata": {
        "id": "OGjwJC2AFrcm"
      },
      "execution_count": 4,
      "outputs": []
    },
    {
      "cell_type": "markdown",
      "source": [
        "### Load the dataset and prepare it.\n",
        "We download a the test set of the common voice dataset. We resample to 16kHz as this is the expected input for the TitaNet model and we take out recordings that are either too short (less than 3 seconds) or too long (more than 30 seconds)."
      ],
      "metadata": {
        "id": "Aom3FlQOGetd"
      }
    },
    {
      "cell_type": "markdown",
      "source": [
        "#### Download and select only 2000 recordings"
      ],
      "metadata": {
        "id": "Fz8gFVxWvIT-"
      }
    },
    {
      "cell_type": "code",
      "source": [
        "cv_13 = load_dataset(\"mozilla-foundation/common_voice_13_0\", input_lang, split=[\"test\"], trust_remote_code=True)\n",
        "cv_13_filtered = cv_13[0].select(range(2000))"
      ],
      "metadata": {
        "id": "UAGSAlP_Kx5a"
      },
      "execution_count": 6,
      "outputs": []
    },
    {
      "cell_type": "markdown",
      "source": [
        "#### Display number of recordings in the dataset"
      ],
      "metadata": {
        "id": "Z75jgjqKG34b"
      }
    },
    {
      "cell_type": "code",
      "source": [
        "print(f\"Number of recordings: {len(cv_13[0])}\")\n",
        "print(f\"Number of recordings in filtered dataset: {len(cv_13_filtered)}\")"
      ],
      "metadata": {
        "colab": {
          "base_uri": "https://localhost:8080/"
        },
        "id": "n_eVEHH1SNPr",
        "outputId": "0b2c18ef-bd50-48be-c13e-612161c73da9"
      },
      "execution_count": 8,
      "outputs": [
        {
          "output_type": "stream",
          "name": "stdout",
          "text": [
            "Number of recordings: 2947\n",
            "Number of recordings in filtered dataset: 2000\n"
          ]
        }
      ]
    },
    {
      "cell_type": "markdown",
      "source": [
        "#### Add a column in the dataset for the length of the audio file"
      ],
      "metadata": {
        "id": "OOnOnuTHpL8d"
      }
    },
    {
      "cell_type": "code",
      "source": [
        "def prepare_dataset(example):\n",
        "    info = sf.info(example['path'])\n",
        "    duration = info.duration\n",
        "    example['duration']=duration\n",
        "    return example\n",
        "\n",
        "cv_13_filtered = cv_13_filtered.map(\n",
        "    prepare_dataset, num_proc=4, batch_size=100\n",
        ")"
      ],
      "metadata": {
        "colab": {
          "base_uri": "https://localhost:8080/",
          "height": 101,
          "referenced_widgets": [
            "2dba5c7dbeae4dc285f395ee968783cc",
            "5fabd5469699468e8e0763c547b864c3",
            "90750a9cd0cf4145ba85d5ff7d699fc4",
            "ce330ff361294cfe8d2f0a3ad999e666",
            "7d7e9ad409e44dc8b975410b12402172",
            "a50fc7b01afc49e3b404771fd0449140",
            "67126e87626146f78923493187df2605",
            "a9af09ab0651424bbb17b9f95cf25b16",
            "366c2beafcd140078ca54478926106dd",
            "fb923e7f1afb46eebcbeb312add80b27",
            "6c2de9ae749048a0b6c7d2fdc41c23dc"
          ]
        },
        "id": "j4HTOfFnpQS-",
        "outputId": "33723547-9c24-44e0-f733-9a29475c0807"
      },
      "execution_count": 9,
      "outputs": [
        {
          "output_type": "stream",
          "name": "stderr",
          "text": [
            "[NeMo W 2024-05-10 19:12:37 nemo_logging:349] /usr/local/lib/python3.10/dist-packages/multiprocess/popen_fork.py:66: RuntimeWarning: os.fork() was called. os.fork() is incompatible with multithreaded code, and JAX is multithreaded, so this will likely lead to a deadlock.\n",
            "      self.pid = os.fork()\n",
            "    \n"
          ]
        },
        {
          "output_type": "display_data",
          "data": {
            "text/plain": [
              "Map (num_proc=4):   0%|          | 0/2000 [00:00<?, ? examples/s]"
            ],
            "application/vnd.jupyter.widget-view+json": {
              "version_major": 2,
              "version_minor": 0,
              "model_id": "2dba5c7dbeae4dc285f395ee968783cc"
            }
          },
          "metadata": {}
        }
      ]
    },
    {
      "cell_type": "markdown",
      "source": [
        "#### Apply filtering to the dataset"
      ],
      "metadata": {
        "id": "VY_cOKslSacu"
      }
    },
    {
      "cell_type": "code",
      "source": [
        "min_input_length=3\n",
        "max_input_length=30\n",
        "\n",
        "def is_audio_in_length_range(length):\n",
        "    return max_input_length > length > min_input_length\n",
        "\n",
        "cv_13_filtered = cv_13_filtered.filter(\n",
        "    is_audio_in_length_range,\n",
        "    input_columns=[\"duration\"],\n",
        ")\n",
        "\n",
        "print(f\"Number of recordings: {len(cv_13_filtered)}\")"
      ],
      "metadata": {
        "id": "Mmz8ltQUAEzJ",
        "colab": {
          "base_uri": "https://localhost:8080/",
          "height": 66,
          "referenced_widgets": [
            "f1e23e0d52b140699bb059ff8b5225e5",
            "19702a05a2f3477f9635aa8baab88c9c",
            "a9c316b8db3d4dc4938bc1b6a923089c",
            "a130b36aacd84ee4bc208b1f72543702",
            "998cd2af716a4ad2a091d4f5d5b84868",
            "84b2dcac31904fab8e8491d191529a36",
            "1ced359303a943398f20614200e4c7a7",
            "751c6fdd7d65443cb274b20ec0c27871",
            "5116bb27e0374aaebb181821729e4cb1",
            "7bed583aaad646a4b650b90229efe3f9",
            "174db725ffb24d448e169b547d2f1416"
          ]
        },
        "outputId": "12c3b635-2f80-4224-c03f-c8aa15ba2898"
      },
      "execution_count": 10,
      "outputs": [
        {
          "output_type": "display_data",
          "data": {
            "text/plain": [
              "Filter:   0%|          | 0/2000 [00:00<?, ? examples/s]"
            ],
            "application/vnd.jupyter.widget-view+json": {
              "version_major": 2,
              "version_minor": 0,
              "model_id": "f1e23e0d52b140699bb059ff8b5225e5"
            }
          },
          "metadata": {}
        },
        {
          "output_type": "stream",
          "name": "stdout",
          "text": [
            "Number of recordings: 1844\n"
          ]
        }
      ]
    },
    {
      "cell_type": "markdown",
      "source": [
        "## 🧮 Load the model and compute embeddings for all recordings\n",
        "For each file, we extract the embedding of the voice and store it in a dictionary. As we have the speaker ID and a same speaker can have multiple recordings, we want to have multiple embeddings for the same user.<br>\n",
        "\n",
        "Embeddings:\n",
        "`{ 'id' : [array of speaker ID], 'vect': [array of embeddings] }`\n",
        "\n",
        "Also, each recording is resampled to 16kHz and saved as a wav file since this is expected by the model"
      ],
      "metadata": {
        "id": "1IdkQt9zG9J2"
      }
    },
    {
      "cell_type": "code",
      "source": [
        "speaker_model = nemo_asr.models.EncDecSpeakerLabelModel.from_pretrained(model_name='titanet_large')\n",
        "\n",
        "embeddings={'id':[], 'vect' : []}\n",
        "\n",
        "#Resample to 16kHz and generate a wav file instead of a mp3\n",
        "def resample(path):\n",
        "  data, sr = librosa.load(path, sr=None)\n",
        "  resampled_data = librosa.resample(data, orig_sr=sr, target_sr=16000)\n",
        "  new_path = path.replace('.mp3', '.wav')\n",
        "  sf.write(new_path, resampled_data, 16000)\n",
        "  return new_path\n",
        "\n",
        "for rec in tqdm(cv_13_filtered):\n",
        "  path = resample(rec['path'])\n",
        "  embs = speaker_model.get_embedding(path)\n",
        "  embeddings['id'].append(rec['client_id'])\n",
        "  embeddings['vect'].append(embs)"
      ],
      "metadata": {
        "colab": {
          "base_uri": "https://localhost:8080/"
        },
        "id": "AwolvWo7P9CS",
        "outputId": "590e862a-3922-42c6-8c73-3425a33c6b22"
      },
      "execution_count": 11,
      "outputs": [
        {
          "output_type": "stream",
          "name": "stdout",
          "text": [
            "[NeMo I 2024-05-10 19:14:02 cloud:68] Downloading from: https://api.ngc.nvidia.com/v2/models/nvidia/nemo/titanet_large/versions/v1/files/titanet-l.nemo to /root/.cache/torch/NeMo/NeMo_1.23.0/titanet-l/11ba0924fdf87c049e339adbf6899d48/titanet-l.nemo\n",
            "[NeMo I 2024-05-10 19:14:05 common:924] Instantiating model from pre-trained checkpoint\n"
          ]
        },
        {
          "output_type": "stream",
          "name": "stderr",
          "text": [
            "[NeMo W 2024-05-10 19:14:05 modelPT:165] If you intend to do training or fine-tuning, please call the ModelPT.setup_training_data() method and provide a valid configuration file to setup the train data loader.\n",
            "    Train config : \n",
            "    manifest_filepath: /manifests/combined_fisher_swbd_voxceleb12_librispeech/train.json\n",
            "    sample_rate: 16000\n",
            "    labels: null\n",
            "    batch_size: 64\n",
            "    shuffle: true\n",
            "    is_tarred: false\n",
            "    tarred_audio_filepaths: null\n",
            "    tarred_shard_strategy: scatter\n",
            "    augmentor:\n",
            "      noise:\n",
            "        manifest_path: /manifests/noise/rir_noise_manifest.json\n",
            "        prob: 0.5\n",
            "        min_snr_db: 0\n",
            "        max_snr_db: 15\n",
            "      speed:\n",
            "        prob: 0.5\n",
            "        sr: 16000\n",
            "        resample_type: kaiser_fast\n",
            "        min_speed_rate: 0.95\n",
            "        max_speed_rate: 1.05\n",
            "    num_workers: 15\n",
            "    pin_memory: true\n",
            "    \n",
            "[NeMo W 2024-05-10 19:14:05 modelPT:172] If you intend to do validation, please call the ModelPT.setup_validation_data() or ModelPT.setup_multiple_validation_data() method and provide a valid configuration file to setup the validation data loader(s). \n",
            "    Validation config : \n",
            "    manifest_filepath: /manifests/combined_fisher_swbd_voxceleb12_librispeech/dev.json\n",
            "    sample_rate: 16000\n",
            "    labels: null\n",
            "    batch_size: 128\n",
            "    shuffle: false\n",
            "    num_workers: 15\n",
            "    pin_memory: true\n",
            "    \n"
          ]
        },
        {
          "output_type": "stream",
          "name": "stdout",
          "text": [
            "[NeMo I 2024-05-10 19:14:05 features:289] PADDING: 16\n",
            "[NeMo I 2024-05-10 19:14:07 save_restore_connector:249] Model EncDecSpeakerLabelModel was successfully restored from /root/.cache/torch/NeMo/NeMo_1.23.0/titanet-l/11ba0924fdf87c049e339adbf6899d48/titanet-l.nemo.\n"
          ]
        },
        {
          "output_type": "stream",
          "name": "stderr",
          "text": [
            "100%|██████████| 1844/1844 [01:32<00:00, 19.98it/s]\n"
          ]
        }
      ]
    },
    {
      "cell_type": "markdown",
      "source": [
        "### Define useful function to compute cosine similarity between 2 embeddings"
      ],
      "metadata": {
        "id": "qryjiK7JHeun"
      }
    },
    {
      "cell_type": "code",
      "source": [
        "def cosine(t1,t2):\n",
        "\n",
        "  norm1 = t1 / torch.norm(t1)\n",
        "  norm2 = t2 / torch.norm(t2)\n",
        "\n",
        "  # Compute the dot product\n",
        "  dot_product = torch.dot(norm1, norm2)\n",
        "\n",
        "  # Calculate the cosine similarity\n",
        "  cosine_similarity = dot_product / (torch.norm(norm1) * torch.norm(norm2))\n",
        "\n",
        "  #Set the value between 0 and 1\n",
        "  score = 0.5 * (1 + cosine_similarity.item())\n",
        "  return score"
      ],
      "metadata": {
        "id": "JUU8TzUJRx27"
      },
      "execution_count": 12,
      "outputs": []
    },
    {
      "cell_type": "markdown",
      "source": [
        "###  For each embedding, compute its cosine similarity with all others\n",
        "If same user, store the information in positives. Else, store it in negatives."
      ],
      "metadata": {
        "id": "zEa8ErkFHqaI"
      }
    },
    {
      "cell_type": "code",
      "source": [
        "positives=[]\n",
        "negatives=[]\n",
        "n_max=len(cv_13_filtered)\n",
        "for ind1, vect1 in tqdm(enumerate(embeddings['vect'][0:n_max])):\n",
        "  for ind2, vect2 in enumerate(embeddings['vect'][0:ind1]):\n",
        "    score = cosine(vect2[0], vect1[0])\n",
        "    if embeddings['id'][ind1]==embeddings['id'][ind2]:\n",
        "      positives.append(score)\n",
        "    else:\n",
        "      negatives.append(score)"
      ],
      "metadata": {
        "colab": {
          "base_uri": "https://localhost:8080/"
        },
        "id": "PREOUf_TQWcr",
        "outputId": "a04bc862-edfe-410b-b12d-e809ff84d428"
      },
      "execution_count": 13,
      "outputs": [
        {
          "output_type": "stream",
          "name": "stderr",
          "text": [
            "1844it [05:27,  5.63it/s]\n"
          ]
        }
      ]
    },
    {
      "cell_type": "code",
      "source": [
        "print(f\"Positives: {len(positives)}\")\n",
        "print(f\"Negatives: {len(negatives)}\")"
      ],
      "metadata": {
        "colab": {
          "base_uri": "https://localhost:8080/"
        },
        "id": "KZtULEi8IL9U",
        "outputId": "2b51975a-7f4c-4a37-889e-c3a6976a40e3"
      },
      "execution_count": 14,
      "outputs": [
        {
          "output_type": "stream",
          "name": "stdout",
          "text": [
            "Positives: 15546\n",
            "Negatives: 1683700\n"
          ]
        }
      ]
    },
    {
      "cell_type": "markdown",
      "source": [
        "## 📊 Display outcome in a graph"
      ],
      "metadata": {
        "id": "iqLOnGvlIdWe"
      }
    },
    {
      "cell_type": "markdown",
      "source": [
        "### Distribution of scores for negatives and positives"
      ],
      "metadata": {
        "id": "8aS0TbKv6ySj"
      }
    },
    {
      "cell_type": "code",
      "source": [
        "# Define the intervals\n",
        "intervals = np.arange(0, 1.01, 0.01)\n",
        "\n",
        "# Calculate the total number of items\n",
        "total_positives = len(positives)\n",
        "total_negatives = len(negatives)\n",
        "\n",
        "# Count the number of positives and negatives in each interval\n",
        "positive_counts, _ = np.histogram(positives, bins=intervals)\n",
        "negative_counts, _ = np.histogram(negatives, bins=intervals)\n",
        "\n",
        "# Calculate the percentage of positives and negatives in each interval\n",
        "positive_percentages = (positive_counts / total_positives) * 100\n",
        "negative_percentages = (negative_counts / total_negatives) * 100\n",
        "\n",
        "# Plot the results\n",
        "plt.figure(figsize=(10, 6))\n",
        "plt.plot(intervals[:-1], positive_percentages, label='Positives', color='blue')\n",
        "plt.plot(intervals[:-1], negative_percentages, label='Negatives', color='red')\n",
        "plt.xlabel('Score Range')\n",
        "plt.ylabel('Percentage')\n",
        "plt.suptitle('Distribution of Positives and Negatives by Score Range')\n",
        "plt.title('Hindi')\n",
        "plt.legend()\n",
        "plt.grid(True)\n",
        "plt.xticks(np.arange(0, 1.01, 0.05))\n",
        "# Dynamically adjust the vertical ticks based on the maximum value\n",
        "max_percentage = max(np.max(positive_percentages), np.max(negative_percentages))\n",
        "plt.yticks(np.arange(0, max_percentage, 0.5))\n",
        "plt.savefig('positives_negatives_distribution.png')\n",
        "plt.show()"
      ],
      "metadata": {
        "colab": {
          "base_uri": "https://localhost:8080/",
          "height": 602
        },
        "id": "_AY6dEC9J6Eu",
        "outputId": "3a309547-08be-4020-b3f6-052d3ef7a0a4"
      },
      "execution_count": 15,
      "outputs": [
        {
          "output_type": "display_data",
          "data": {
            "text/plain": [
              "<Figure size 1000x600 with 1 Axes>"
            ],
            "image/png": "[encoded data removed]"
          },
          "metadata": {}
        }
      ]
    },
    {
      "cell_type": "markdown",
      "source": [
        "### Metrics VS threshold"
      ],
      "metadata": {
        "id": "4ZJYzrhH62gr"
      }
    },
    {
      "cell_type": "code",
      "source": [
        "# Define a range of thresholds\n",
        "thresholds = np.linspace(0, 1, 100)\n",
        "\n",
        "# Initialize lists to store metrics\n",
        "accuracy_list = []\n",
        "precision_list = []\n",
        "recall_list = []\n",
        "f1_list = []\n",
        "\n",
        "# Compute metrics for each threshold\n",
        "data_source_1 = np.array(positives)\n",
        "data_source_2 = np.array(negatives)\n",
        "\n",
        "for threshold in thresholds:\n",
        "    fn = np.sum(data_source_1 < threshold)\n",
        "    tp = np.sum(data_source_1 >= threshold)\n",
        "    tn = np.sum(data_source_2 < threshold)\n",
        "    fp = np.sum(data_source_2 >= threshold)\n",
        "\n",
        "    acc = (tp + tn) / (tp + tn + fp + fn)\n",
        "    prec = tp / (tp + fp) if (tp + fp) > 0 else 0\n",
        "    rec = tp / (tp + fn) if (tp + fn) > 0 else 0\n",
        "    f1 = 2 * (prec * rec) / (prec + rec) if (prec + rec) > 0 else 0\n",
        "\n",
        "    accuracy_list.append(acc)\n",
        "    precision_list.append(prec)\n",
        "    recall_list.append(rec)\n",
        "    f1_list.append(f1)\n",
        "\n",
        "# Find the threshold where accuracy and precision intersect\n",
        "intersection_accuracy_precision = np.intersect1d(thresholds, thresholds[np.isclose(accuracy_list, precision_list, atol=0.01)])\n",
        "\n",
        "# Find the threshold where accuracy and recall intersect\n",
        "intersection_accuracy_recall = np.intersect1d(thresholds, thresholds[np.isclose(accuracy_list, recall_list, atol=0.01)])\n",
        "\n",
        "# Find the threshold where accuracy and F1-score intersect\n",
        "intersection_accuracy_f1 = np.intersect1d(thresholds, thresholds[np.isclose(accuracy_list, f1_list, atol=0.01)])\n",
        "\n",
        "# Find the threshold where recall and precision intersect\n",
        "intersection_recall_precision = np.intersect1d(thresholds, thresholds[np.isclose(recall_list, precision_list, atol=0.01)])\n",
        "\n",
        "# Print the intersection point\n",
        "print(\"Intersection of Recall and Precision:\", intersection_recall_precision)\n",
        "print(\"Intersection of Accuracy and Precision:\", intersection_accuracy_precision)\n",
        "print(\"Intersection of Accuracy and Recall:\", intersection_accuracy_recall)\n",
        "print(\"Intersection of Accuracy and F1-score:\", intersection_accuracy_f1)\n",
        "\n",
        "# Plot metrics\n",
        "plt.figure(figsize=(10, 6))\n",
        "plt.plot(thresholds, accuracy_list, label='Accuracy')\n",
        "plt.plot(thresholds, precision_list, label='Precision')\n",
        "plt.plot(thresholds, recall_list, label='Recall')\n",
        "plt.plot(thresholds, f1_list, label='F1-score')\n",
        "plt.xlabel('Threshold')\n",
        "plt.ylabel('Metric Value')\n",
        "plt.suptitle('Metrics vs. Threshold')\n",
        "plt.title('Hindi')\n",
        "plt.legend()\n",
        "plt.grid(True)\n",
        "plt.xticks(np.arange(0, 1.01, 0.05))\n",
        "plt.yticks(np.arange(0, 1.01, 0.05))\n",
        "plt.show()\n"
      ],
      "metadata": {
        "id": "yY08LBkq5LmG",
        "colab": {
          "base_uri": "https://localhost:8080/",
          "height": 984
        },
        "outputId": "170c064d-ba5f-4500-9e61-49a3603899d4"
      },
      "execution_count": 16,
      "outputs": [
        {
          "output_type": "stream",
          "name": "stdout",
          "text": [
            "Intersection of Recall and Precision: [0.96969697 0.97979798 0.98989899 1.        ]\n",
            "Intersection of Accuracy and Precision: [0.         0.01010101 0.02020202 0.03030303 0.04040404 0.05050505\n",
            " 0.06060606 0.07070707 0.08080808 0.09090909 0.1010101  0.11111111\n",
            " 0.12121212 0.13131313 0.14141414 0.15151515 0.16161616 0.17171717\n",
            " 0.18181818 0.19191919 0.2020202  0.21212121 0.22222222 0.23232323\n",
            " 0.24242424 0.25252525 0.26262626 0.27272727 0.28282828 0.29292929\n",
            " 0.3030303  0.31313131 0.32323232 0.33333333 0.34343434 0.35353535\n",
            " 0.36363636 0.37373737 0.38383838 0.39393939 0.4040404  0.41414141\n",
            " 0.42424242 0.43434343 0.44444444 0.45454545 0.46464646 0.47474747\n",
            " 0.81818182 0.82828283 0.83838384 0.84848485 0.85858586 0.86868687\n",
            " 0.87878788 0.88888889 0.8989899  0.90909091 0.91919192 0.92929293\n",
            " 0.93939394 0.94949495 0.95959596]\n",
            "Intersection of Accuracy and Recall: [0.6969697]\n",
            "Intersection of Accuracy and F1-score: [0.         0.01010101 0.02020202 0.03030303 0.04040404 0.05050505\n",
            " 0.06060606 0.07070707 0.08080808 0.09090909 0.1010101  0.11111111\n",
            " 0.12121212 0.13131313 0.14141414 0.15151515 0.16161616 0.17171717\n",
            " 0.18181818 0.19191919 0.2020202  0.21212121 0.22222222 0.23232323\n",
            " 0.24242424 0.25252525 0.26262626 0.27272727 0.28282828 0.29292929\n",
            " 0.3030303  0.31313131 0.32323232 0.33333333 0.34343434 0.35353535\n",
            " 0.36363636 0.37373737 0.38383838 0.39393939 0.4040404  0.41414141\n",
            " 0.42424242 0.43434343 0.44444444 0.45454545 0.46464646 0.47474747\n",
            " 0.48484848]\n"
          ]
        },
        {
          "output_type": "display_data",
          "data": {
            "text/plain": [
              "<Figure size 1000x600 with 1 Axes>"
            ],
            "image/png": "[encoded data removed]"
          },
          "metadata": {}
        }
      ]
    }
  ]
}